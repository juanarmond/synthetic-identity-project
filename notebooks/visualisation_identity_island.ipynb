{
 "cells": [
  {
   "cell_type": "code",
   "execution_count": 1,
   "metadata": {},
   "outputs": [
    {
     "name": "stdout",
     "output_type": "stream",
     "text": [
      "Requirement already satisfied: plotly in /Library/Frameworks/Python.framework/Versions/3.12/lib/python3.12/site-packages (5.22.0)\n",
      "Requirement already satisfied: tenacity>=6.2.0 in /Library/Frameworks/Python.framework/Versions/3.12/lib/python3.12/site-packages (from plotly) (8.3.0)\n",
      "Requirement already satisfied: packaging in /Library/Frameworks/Python.framework/Versions/3.12/lib/python3.12/site-packages (from plotly) (23.2)\n",
      "Note: you may need to restart the kernel to use updated packages.\n",
      "Requirement already satisfied: scipy in /Library/Frameworks/Python.framework/Versions/3.12/lib/python3.12/site-packages (1.12.0)\n",
      "Requirement already satisfied: numpy<1.29.0,>=1.22.4 in /Library/Frameworks/Python.framework/Versions/3.12/lib/python3.12/site-packages (from scipy) (1.26.3)\n",
      "Note: you may need to restart the kernel to use updated packages.\n",
      "Requirement already satisfied: nbformat in /Library/Frameworks/Python.framework/Versions/3.12/lib/python3.12/site-packages (5.9.2)\n",
      "Requirement already satisfied: fastjsonschema in /Library/Frameworks/Python.framework/Versions/3.12/lib/python3.12/site-packages (from nbformat) (2.19.1)\n",
      "Requirement already satisfied: jsonschema>=2.6 in /Library/Frameworks/Python.framework/Versions/3.12/lib/python3.12/site-packages (from nbformat) (4.21.1)\n",
      "Requirement already satisfied: jupyter-core in /Library/Frameworks/Python.framework/Versions/3.12/lib/python3.12/site-packages (from nbformat) (5.7.1)\n",
      "Requirement already satisfied: traitlets>=5.1 in /Library/Frameworks/Python.framework/Versions/3.12/lib/python3.12/site-packages (from nbformat) (5.14.1)\n",
      "Requirement already satisfied: attrs>=22.2.0 in /Library/Frameworks/Python.framework/Versions/3.12/lib/python3.12/site-packages (from jsonschema>=2.6->nbformat) (23.2.0)\n",
      "Requirement already satisfied: jsonschema-specifications>=2023.03.6 in /Library/Frameworks/Python.framework/Versions/3.12/lib/python3.12/site-packages (from jsonschema>=2.6->nbformat) (2023.12.1)\n",
      "Requirement already satisfied: referencing>=0.28.4 in /Library/Frameworks/Python.framework/Versions/3.12/lib/python3.12/site-packages (from jsonschema>=2.6->nbformat) (0.33.0)\n",
      "Requirement already satisfied: rpds-py>=0.7.1 in /Library/Frameworks/Python.framework/Versions/3.12/lib/python3.12/site-packages (from jsonschema>=2.6->nbformat) (0.17.1)\n",
      "Requirement already satisfied: platformdirs>=2.5 in /Library/Frameworks/Python.framework/Versions/3.12/lib/python3.12/site-packages (from jupyter-core->nbformat) (4.2.0)\n",
      "Note: you may need to restart the kernel to use updated packages.\n",
      "Requirement already satisfied: htmlmin in /Library/Frameworks/Python.framework/Versions/3.12/lib/python3.12/site-packages (0.1.12)\n",
      "Note: you may need to restart the kernel to use updated packages.\n",
      "Requirement already satisfied: dash in /Library/Frameworks/Python.framework/Versions/3.12/lib/python3.12/site-packages (2.17.0)\n",
      "Requirement already satisfied: Flask<3.1,>=1.0.4 in /Library/Frameworks/Python.framework/Versions/3.12/lib/python3.12/site-packages (from dash) (3.0.2)\n",
      "Requirement already satisfied: Werkzeug<3.1 in /Library/Frameworks/Python.framework/Versions/3.12/lib/python3.12/site-packages (from dash) (3.0.1)\n",
      "Requirement already satisfied: plotly>=5.0.0 in /Library/Frameworks/Python.framework/Versions/3.12/lib/python3.12/site-packages (from dash) (5.22.0)\n",
      "Requirement already satisfied: dash-html-components==2.0.0 in /Library/Frameworks/Python.framework/Versions/3.12/lib/python3.12/site-packages (from dash) (2.0.0)\n",
      "Requirement already satisfied: dash-core-components==2.0.0 in /Library/Frameworks/Python.framework/Versions/3.12/lib/python3.12/site-packages (from dash) (2.0.0)\n",
      "Requirement already satisfied: dash-table==5.0.0 in /Library/Frameworks/Python.framework/Versions/3.12/lib/python3.12/site-packages (from dash) (5.0.0)\n",
      "Requirement already satisfied: importlib-metadata in /Library/Frameworks/Python.framework/Versions/3.12/lib/python3.12/site-packages (from dash) (7.0.1)\n",
      "Requirement already satisfied: typing-extensions>=4.1.1 in /Library/Frameworks/Python.framework/Versions/3.12/lib/python3.12/site-packages (from dash) (4.9.0)\n",
      "Requirement already satisfied: requests in /Library/Frameworks/Python.framework/Versions/3.12/lib/python3.12/site-packages (from dash) (2.31.0)\n",
      "Requirement already satisfied: retrying in /Library/Frameworks/Python.framework/Versions/3.12/lib/python3.12/site-packages (from dash) (1.3.4)\n",
      "Requirement already satisfied: nest-asyncio in /Library/Frameworks/Python.framework/Versions/3.12/lib/python3.12/site-packages (from dash) (1.6.0)\n",
      "Requirement already satisfied: setuptools in /Library/Frameworks/Python.framework/Versions/3.12/lib/python3.12/site-packages (from dash) (69.0.3)\n",
      "Requirement already satisfied: Jinja2>=3.1.2 in /Library/Frameworks/Python.framework/Versions/3.12/lib/python3.12/site-packages (from Flask<3.1,>=1.0.4->dash) (3.1.3)\n",
      "Requirement already satisfied: itsdangerous>=2.1.2 in /Library/Frameworks/Python.framework/Versions/3.12/lib/python3.12/site-packages (from Flask<3.1,>=1.0.4->dash) (2.1.2)\n",
      "Requirement already satisfied: click>=8.1.3 in /Library/Frameworks/Python.framework/Versions/3.12/lib/python3.12/site-packages (from Flask<3.1,>=1.0.4->dash) (8.1.7)\n",
      "Requirement already satisfied: blinker>=1.6.2 in /Library/Frameworks/Python.framework/Versions/3.12/lib/python3.12/site-packages (from Flask<3.1,>=1.0.4->dash) (1.7.0)\n",
      "Requirement already satisfied: tenacity>=6.2.0 in /Library/Frameworks/Python.framework/Versions/3.12/lib/python3.12/site-packages (from plotly>=5.0.0->dash) (8.3.0)\n",
      "Requirement already satisfied: packaging in /Library/Frameworks/Python.framework/Versions/3.12/lib/python3.12/site-packages (from plotly>=5.0.0->dash) (23.2)\n",
      "Requirement already satisfied: MarkupSafe>=2.1.1 in /Library/Frameworks/Python.framework/Versions/3.12/lib/python3.12/site-packages (from Werkzeug<3.1->dash) (2.1.5)\n",
      "Requirement already satisfied: zipp>=0.5 in /Library/Frameworks/Python.framework/Versions/3.12/lib/python3.12/site-packages (from importlib-metadata->dash) (3.17.0)\n",
      "Requirement already satisfied: charset-normalizer<4,>=2 in /Library/Frameworks/Python.framework/Versions/3.12/lib/python3.12/site-packages (from requests->dash) (3.3.2)\n",
      "Requirement already satisfied: idna<4,>=2.5 in /Library/Frameworks/Python.framework/Versions/3.12/lib/python3.12/site-packages (from requests->dash) (3.6)\n",
      "Requirement already satisfied: urllib3<3,>=1.21.1 in /Library/Frameworks/Python.framework/Versions/3.12/lib/python3.12/site-packages (from requests->dash) (1.26.18)\n",
      "Requirement already satisfied: certifi>=2017.4.17 in /Library/Frameworks/Python.framework/Versions/3.12/lib/python3.12/site-packages (from requests->dash) (2024.2.2)\n",
      "Requirement already satisfied: six>=1.7.0 in /Library/Frameworks/Python.framework/Versions/3.12/lib/python3.12/site-packages (from retrying->dash) (1.16.0)\n",
      "Note: you may need to restart the kernel to use updated packages.\n"
     ]
    }
   ],
   "source": [
    "%pip install plotly\n",
    "%pip install scipy\n",
    "%pip install nbformat\n",
    "%pip install htmlmin\n",
    "%pip install dash "
   ]
  },
  {
   "cell_type": "code",
   "execution_count": 2,
   "metadata": {},
   "outputs": [],
   "source": [
    "import networkx as nx\n",
    "import re\n",
    "import dash\n",
    "from dash import dcc, html\n",
    "from dash.dependencies import Input, Output, State\n",
    "import plotly.graph_objects as go\n",
    "import networkx as nx\n",
    "import numpy as np"
   ]
  },
  {
   "cell_type": "markdown",
   "metadata": {},
   "source": [
    "# Visualise Identity Islands"
   ]
  },
  {
   "cell_type": "markdown",
   "metadata": {},
   "source": [
    "## Load the Graph Data"
   ]
  },
  {
   "cell_type": "code",
   "execution_count": 3,
   "metadata": {},
   "outputs": [
    {
     "name": "stdout",
     "output_type": "stream",
     "text": [
      "Number of nodes: 121\n",
      "Number of edges: 163\n"
     ]
    }
   ],
   "source": [
    "import networkx as nx\n",
    "import re\n",
    "\n",
    "def load_nquads_to_graph(nquads_file, base_uri=\"http://syntetic_identity_island.org/\"):\n",
    "    G = nx.DiGraph()\n",
    "    pattern_literal = re.compile(r'<(.*?)>\\s+<(.*?)>\\s+\"(.*?)\"\\s*(?:\\^\\^<.*?>)?\\s*\\.\\s*')\n",
    "    pattern_uri = re.compile(r'<(.*?)>\\s+<(.*?)>\\s+<(.*?)>\\s*\\.\\s*')\n",
    "    \n",
    "    with open(nquads_file, 'r') as f:\n",
    "        for line in f:\n",
    "            match_literal = pattern_literal.match(line)\n",
    "            match_uri = pattern_uri.match(line)\n",
    "            if match_literal:\n",
    "                subject = match_literal.group(1)\n",
    "                predicate = match_literal.group(2)\n",
    "                obj = match_literal.group(3)\n",
    "                \n",
    "                if predicate.startswith(base_uri):\n",
    "                    pred_key = predicate[len(base_uri):]\n",
    "\n",
    "                    # Ensure the subject node exists\n",
    "                    if subject not in G:\n",
    "                        G.add_node(subject)\n",
    "                    \n",
    "                    # Add attributes to the node\n",
    "                    if pred_key not in G.nodes[subject]:\n",
    "                        G.nodes[subject][pred_key] = obj\n",
    "                    else:\n",
    "                        if isinstance(G.nodes[subject][pred_key], list):\n",
    "                            G.nodes[subject][pred_key].append(obj)\n",
    "                        else:\n",
    "                            G.nodes[subject][pred_key] = [G.nodes[subject][pred_key], obj]\n",
    "            \n",
    "            elif match_uri:\n",
    "                subject = match_uri.group(1)\n",
    "                predicate = match_uri.group(2)\n",
    "                obj = match_uri.group(3)\n",
    "                \n",
    "                if predicate.startswith(base_uri):\n",
    "                    pred_key = predicate[len(base_uri):]\n",
    "\n",
    "                    # Ensure the subject node exists\n",
    "                    if subject not in G:\n",
    "                        G.add_node(subject)\n",
    "                    # Ensure the object node exists if it's also a subject\n",
    "                    if obj not in G:\n",
    "                        G.add_node(obj)\n",
    "                    \n",
    "                    # Add an edge\n",
    "                    G.add_edge(subject, obj, type=pred_key)\n",
    "    \n",
    "    return G\n",
    "\n",
    "G = load_nquads_to_graph('../data/ingested_data/syntetic_identity_island.nq')\n",
    "\n",
    "# Debug: Check the number of nodes and edges\n",
    "print(f\"Number of nodes: {G.number_of_nodes()}\")\n",
    "print(f\"Number of edges: {G.number_of_edges()}\")"
   ]
  },
  {
   "cell_type": "code",
   "execution_count": 4,
   "metadata": {},
   "outputs": [
    {
     "name": "stdout",
     "output_type": "stream",
     "text": [
      "Node ID: http://syntetic_identity_island.org/3f9fa0ea-d962-40f5-89cd-8253c94db91c\n",
      "Attributes:\n",
      "type: Identity\n",
      "name: Katherine Glass\n",
      "age: 35\n",
      "date_of_birth: 11/04/1989\n",
      "nationality: KGZ\n",
      "\n"
     ]
    }
   ],
   "source": [
    "# Debug: Print out nodes and their attributes\n",
    "for node, attrs in G.nodes(data=True):\n",
    "    print(f\"Node ID: {node}\")\n",
    "    print(\"Attributes:\")\n",
    "    for attr_key, attr_value in attrs.items():\n",
    "        print(f\"{attr_key}: {attr_value}\")\n",
    "    print()\n",
    "    break"
   ]
  },
  {
   "cell_type": "code",
   "execution_count": 5,
   "metadata": {},
   "outputs": [
    {
     "name": "stdout",
     "output_type": "stream",
     "text": [
      "Edge from http://syntetic_identity_island.org/3f9fa0ea-d962-40f5-89cd-8253c94db91c to http://syntetic_identity_island.org/9dcbecaa-f0b1-415f-9843-9c218bbc4466\n",
      "Attributes:\n",
      "type: IDENTITY_EQUIVALENCE\n"
     ]
    }
   ],
   "source": [
    "for edge in G.edges(data=True):\n",
    "    print(f\"Edge from {edge[0]} to {edge[1]}\")\n",
    "    print(\"Attributes:\")\n",
    "    for attr_key, attr_value in edge[2].items():\n",
    "        print(f\"{attr_key}: {attr_value}\")\n",
    "    break"
   ]
  },
  {
   "cell_type": "markdown",
   "metadata": {},
   "source": [
    "## Plot Data App"
   ]
  },
  {
   "cell_type": "code",
   "execution_count": 6,
   "metadata": {},
   "outputs": [],
   "source": [
    "pos = nx.spring_layout(G)\n",
    "nx.set_node_attributes(G, pos, 'pos')"
   ]
  },
  {
   "cell_type": "code",
   "execution_count": 7,
   "metadata": {},
   "outputs": [],
   "source": [
    "def create_figure(G, pos, highlight_nodes=None):\n",
    "    # Create edge traces with hoverinfo\n",
    "    edge_trace = []\n",
    "    hover_edge_trace = []\n",
    "\n",
    "    # Collect nodes to highlight\n",
    "    nodes_to_highlight = set()\n",
    "    \n",
    "    if highlight_nodes is not None:\n",
    "        nodes_to_highlight.update(highlight_nodes)\n",
    "        for node in highlight_nodes:\n",
    "            nodes_to_highlight.update(set(G.neighbors(node)))\n",
    "\n",
    "    for edge in G.edges(data=True):\n",
    "        if highlight_nodes is None or (edge[0] in nodes_to_highlight and edge[1] in nodes_to_highlight):\n",
    "            x0, y0 = pos[edge[0]]\n",
    "            x1, y1 = pos[edge[1]]\n",
    "            edge_info = f\"Edge: {edge[0]}-{edge[1]}<br>Type: {edge[2].get('type', 'N/A')}\"\n",
    "    \n",
    "            edge_trace.append(\n",
    "                go.Scatter(\n",
    "                    x=[x0, x1, None],\n",
    "                    y=[y0, y1, None],\n",
    "                    line=dict(width=1, color='#888'),\n",
    "                    mode='lines',\n",
    "                    hoverinfo='none',\n",
    "                    visible=True\n",
    "                )\n",
    "            )\n",
    "    \n",
    "            hover_edge_trace.append(\n",
    "                go.Scatter(\n",
    "                    x=[(x0 + x1) / 2],\n",
    "                    y=[(y0 + y1) / 2],\n",
    "                    mode='markers',\n",
    "                    marker=dict(size=0.5, color='#888'),\n",
    "                    hoverinfo='text',\n",
    "                    text=[f\"Type: {edge[2].get('type', 'N/A')}\"],\n",
    "                    hovertemplate='%{text}<extra></extra>',\n",
    "                    visible=True\n",
    "                )\n",
    "            )\n",
    "\n",
    "    # Create node trace\n",
    "    node_x = []\n",
    "    node_y = []\n",
    "    node_color = []\n",
    "    node_size = []\n",
    "    node_text = []\n",
    "\n",
    "    for node in G.nodes(data=True):\n",
    "        if highlight_nodes is None or node[0] in nodes_to_highlight:\n",
    "            x, y = pos[node[0]]\n",
    "            node_x.append(x)\n",
    "            node_y.append(y)\n",
    "            degree = nx.degree(G, node[0])\n",
    "            num_neighbors = len(list(G.neighbors(node[0])))\n",
    "\n",
    "            node_color.append(degree)\n",
    "            node_size.append(10 + 2 * degree)\n",
    "\n",
    "            attributes = node[1] if isinstance(node[1], dict) else {}\n",
    "            attr_text = '<br>'.join([f\"{key}: {value}\" for key, value in attributes.items()])\n",
    "            # node_text.append(f\"ID: {node[0]}<br>Degree: {degree}<br>{attr_text}\")\n",
    "            node_text.append(f\"ID: {node[0]}<br>degree: {degree}<br>neighbors: {num_neighbors}<br>{attr_text}\")\n",
    "\n",
    "    node_trace = go.Scatter(\n",
    "        x=node_x,\n",
    "        y=node_y,\n",
    "        text=node_text,\n",
    "        mode='markers',\n",
    "        hoverinfo='text',\n",
    "        marker=dict(\n",
    "            showscale=True,\n",
    "            colorscale='Viridis_r',\n",
    "            color=node_color,\n",
    "            size=node_size,\n",
    "            colorbar=dict(\n",
    "                thickness=15,\n",
    "                title='Node Connections',\n",
    "                xanchor='left',\n",
    "                titleside='right'\n",
    "            )\n",
    "        )\n",
    "    )\n",
    "\n",
    "    fig = go.Figure(data=edge_trace + hover_edge_trace + [node_trace],\n",
    "                    layout=go.Layout(\n",
    "                        title='Identity Islands',\n",
    "                        titlefont_size=16,\n",
    "                        showlegend=False,\n",
    "                        hovermode='closest',\n",
    "                        margin=dict(b=20, l=5, r=5, t=40),\n",
    "                        xaxis=dict(showgrid=False, zeroline=False),\n",
    "                        yaxis=dict(showgrid=False, zeroline=False)\n",
    "                    ))\n",
    "\n",
    "    fig.update_layout(width=1100, height=1000)\n",
    "    return fig"
   ]
  },
  {
   "cell_type": "code",
   "execution_count": 8,
   "metadata": {},
   "outputs": [],
   "source": [
    "# Initialize Dash app\n",
    "app = dash.Dash(__name__)\n",
    "\n",
    "app.layout = html.Div([\n",
    "    dcc.Graph(id='network-graph', figure=create_figure(G, pos), style={'width': '100%', 'height': '90vh'}),\n",
    "    html.Button('Reset', id='reset-button', n_clicks=0, style={'position': 'absolute', 'top': '10px', 'right': '230px'}),\n",
    "    dcc.Store(id='last-clicked-node', data=None)\n",
    "])"
   ]
  },
  {
   "cell_type": "code",
   "execution_count": 9,
   "metadata": {},
   "outputs": [],
   "source": [
    "@app.callback(\n",
    "    [Output('network-graph', 'figure'),\n",
    "     Output('last-clicked-node', 'data')],\n",
    "    [Input('network-graph', 'clickData'),\n",
    "     Input('reset-button', 'n_clicks')],\n",
    "    [State('last-clicked-node', 'data')]\n",
    ")\n",
    "\n",
    "def update_figure(clickData, resetClicks, last_clicked_node):\n",
    "    ctx = dash.callback_context\n",
    "\n",
    "    if not ctx.triggered:\n",
    "        return create_figure(G, pos), None\n",
    "\n",
    "    trigger = ctx.triggered[0]['prop_id']\n",
    "\n",
    "    if 'reset-button' in trigger:\n",
    "        # Handle reset button click: reset to initial state\n",
    "        return create_figure(G, pos), None\n",
    "\n",
    "    if clickData is not None:\n",
    "        text = clickData['points'][0]['text']\n",
    "        if 'Type:' in text:\n",
    "            # Handle edge click\n",
    "            edge_info = text.split('<br>')[0].split(': ')[1]\n",
    "            for edge in G.edges(data=True):\n",
    "                edge_type = f\"Type: {edge[2].get('type', 'N/A')}\"\n",
    "                if edge_type == text:\n",
    "                    edge = (edge[0], edge[1])\n",
    "                    return create_figure(G, pos, highlight_nodes=[edge[0], edge[1]]), last_clicked_node\n",
    "        else:\n",
    "            # Handle node click\n",
    "            node_id = text.split('<br>')[0].split(': ')[1]\n",
    "            return create_figure(G, pos, highlight_nodes=[node_id]), node_id\n",
    "\n",
    "    return create_figure(G, pos), None"
   ]
  },
  {
   "cell_type": "code",
   "execution_count": 10,
   "metadata": {},
   "outputs": [
    {
     "data": {
      "text/html": [
       "\n",
       "        <iframe\n",
       "            width=\"100%\"\n",
       "            height=\"650\"\n",
       "            src=\"http://127.0.0.1:8050/\"\n",
       "            frameborder=\"0\"\n",
       "            allowfullscreen\n",
       "            \n",
       "        ></iframe>\n",
       "        "
      ],
      "text/plain": [
       "<IPython.lib.display.IFrame at 0x10727eab0>"
      ]
     },
     "metadata": {},
     "output_type": "display_data"
    }
   ],
   "source": [
    "if __name__ == '__main__':\n",
    "    app.run_server(debug=True)"
   ]
  },
  {
   "cell_type": "code",
   "execution_count": 11,
   "metadata": {},
   "outputs": [
    {
     "data": {
      "text/html": [
       "\n",
       "        <iframe\n",
       "            width=\"100%\"\n",
       "            height=\"1000px\"\n",
       "            src=\"http://127.0.0.1:8050\"\n",
       "            frameborder=\"0\"\n",
       "            allowfullscreen\n",
       "            \n",
       "        ></iframe>\n",
       "        "
      ],
      "text/plain": [
       "<IPython.lib.display.IFrame at 0x107198b00>"
      ]
     },
     "execution_count": 11,
     "metadata": {},
     "output_type": "execute_result"
    }
   ],
   "source": [
    "from IPython.display import IFrame\n",
    "\n",
    "IFrame(src=\"http://127.0.0.1:8050\", width='100%', height='1000px')"
   ]
  },
  {
   "cell_type": "code",
   "execution_count": null,
   "metadata": {},
   "outputs": [],
   "source": []
  }
 ],
 "metadata": {
  "kernelspec": {
   "display_name": "Python 3",
   "language": "python",
   "name": "python3"
  },
  "language_info": {
   "codemirror_mode": {
    "name": "ipython",
    "version": 3
   },
   "file_extension": ".py",
   "mimetype": "text/x-python",
   "name": "python",
   "nbconvert_exporter": "python",
   "pygments_lexer": "ipython3",
   "version": "3.12.3"
  }
 },
 "nbformat": 4,
 "nbformat_minor": 2
}
