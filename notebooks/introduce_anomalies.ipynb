{
 "cells": [
  {
   "cell_type": "markdown",
   "metadata": {},
   "source": [
    "# Adding Anomalies to Synthetic Identity Islands\n",
    "\n",
    "## Similarity Function\n",
    "\n",
    "The `similar` function calculates the similarity between two strings using `SequenceMatcher`.\n",
    "\n",
    "## Finding Similar Identities\n",
    "\n",
    "The `find_similar_identity` function searches for identities within an island that are similar to a target identity based on a specified attribute (`name`, `date_of_birth`, or `nationality`) and a similarity threshold.\n",
    "\n",
    "## Explanation of Adding Anomalies\n",
    "Anomalies are introduced to simulate discrepancies and errors that can occur in real-world data. These anomalies help in testing the robustness of systems designed to detect and resolve identity-related issues.\n",
    "\n",
    "**Types of Anomalies and Their Logic:**\n",
    "\n",
    "1. **Duplicate Identity:**\n",
    "   - A duplicate identity with minor changes (such as a slightly altered name) is created and linked back to the original identity using an `IDENTITY_EQUIVALENCE` edge.\n",
    "   - This simulates cases where a person might have multiple identities with small differences.\n",
    "\n",
    "2. **Inconsistent Reference:**\n",
    "   - A reference document (e.g., passport, national ID) that does not logically match any identity in the island is added.\n",
    "   - This can occur due to data entry errors or fraudulent documents, and it is linked to a random identity in the island using a `CITED_BY` edge.\n",
    "\n",
    "3. **Mislinked Identity:**\n",
    "   - An identity from a different island that has a similar attribute (e.g., name) is linked using an `IDENTITY_EQUIVALENCE` edge.\n",
    "   - This represents cases where two different individuals are mistakenly linked due to similarities in their attributes.\n",
    "\n",
    "4. **Incorrect Event:**\n",
    "   - An event (e.g., biometric verification) that does not logically connect to the identities within the island is introduced.\n",
    "   - Such events might be incorrectly recorded or linked to the wrong person, simulating data integrity issues."
   ]
  },
  {
   "cell_type": "code",
   "execution_count": 1,
   "metadata": {},
   "outputs": [],
   "source": [
    "import random\n",
    "import uuid\n",
    "import pickle\n",
    "import networkx as nx\n",
    "from difflib import SequenceMatcher\n",
    "from faker import Faker"
   ]
  },
  {
   "cell_type": "code",
   "execution_count": 2,
   "metadata": {},
   "outputs": [],
   "source": [
    "fake = Faker()"
   ]
  },
  {
   "cell_type": "code",
   "execution_count": 3,
   "metadata": {},
   "outputs": [],
   "source": [
    "def similar(a, b):\n",
    "    return SequenceMatcher(None, a, b).ratio()"
   ]
  },
  {
   "cell_type": "code",
   "execution_count": 4,
   "metadata": {},
   "outputs": [],
   "source": [
    "def find_similar_identity(island, target_identity, attribute, threshold=0.6):\n",
    "    similar_identity = None\n",
    "    highest_similarity = 0\n",
    "\n",
    "    for identity in island:\n",
    "        if attribute == 'name':\n",
    "            name_similarity = similar(target_identity['name'], identity['name'])\n",
    "            if name_similarity >= threshold:\n",
    "                if target_identity['date_of_birth'] == identity['date_of_birth'] or target_identity['nationality'] == identity['nationality']:\n",
    "                    if name_similarity > highest_similarity:\n",
    "                        highest_similarity = name_similarity\n",
    "                        similar_identity = identity['id']\n",
    "        elif attribute == 'date_of_birth':\n",
    "            if target_identity['date_of_birth'] == identity['date_of_birth']:\n",
    "                if target_identity['nationality'] == identity['nationality']:\n",
    "                    similar_identity = identity['id']\n",
    "                    break  # Perfect match on date_of_birth and nationality\n",
    "        elif attribute == 'nationality':\n",
    "            if target_identity['nationality'] == identity['nationality']:\n",
    "                if target_identity['date_of_birth'] == identity['date_of_birth']:\n",
    "                    similar_identity = identity['id']\n",
    "                    break  # Perfect match on nationality and date_of_birth\n",
    "\n",
    "    return similar_identity"
   ]
  },
  {
   "cell_type": "code",
   "execution_count": 5,
   "metadata": {},
   "outputs": [],
   "source": [
    "def add_anomalies(G, identity_islands, anomaly_percentage):\n",
    "    total_islands = len(identity_islands)\n",
    "    num_anomalous_islands = int(total_islands * (anomaly_percentage / 100))\n",
    "\n",
    "    for _ in range(num_anomalous_islands):\n",
    "        # Randomly select an island to introduce anomalies\n",
    "        island = random.choice(identity_islands)\n",
    "        \n",
    "        # Choose a random identity from the selected island\n",
    "        source_identity_id = random.choice(island)\n",
    "        source_identity = G.nodes[source_identity_id]\n",
    "        \n",
    "        # Choose a type of anomaly to introduce\n",
    "        anomaly_type = random.choice(['duplicate_identity', 'inconsistent_reference', 'mislinked_identity', 'incorrect_event'])\n",
    "        \n",
    "        if anomaly_type == 'duplicate_identity':\n",
    "            # Create a duplicate identity with minor changes\n",
    "            base_identity = G.nodes[source_identity_id]\n",
    "            duplicate_identity = base_identity.copy()\n",
    "            duplicate_identity['id'] = str(uuid.uuid4())\n",
    "            duplicate_identity['name'] = fake.first_name() + \" \" + base_identity['name'].split()[1]\n",
    "            G.add_node(duplicate_identity['id'], **duplicate_identity)\n",
    "            G.add_edge(source_identity_id, duplicate_identity['id'], type='IDENTITY_EQUIVALENCE')\n",
    "            island.append(duplicate_identity['id'])\n",
    "\n",
    "        elif anomaly_type == 'inconsistent_reference':\n",
    "            # Add a reference that doesn't match any identity correctly\n",
    "            inconsistent_reference = {\n",
    "                'id': str(uuid.uuid4()),\n",
    "                'type': 'Reference',\n",
    "                'doc_type': random.choice(['PASSPORT', 'NATURALISATION', 'VISA_1', 'VISA_2', 'NATIONAL_IDENTITY_CARD']),\n",
    "                'doc_number': fake.ssn()\n",
    "            }\n",
    "            G.add_node(inconsistent_reference['id'], **inconsistent_reference)\n",
    "            target_identity_id = random.choice(island)\n",
    "            G.add_edge(target_identity_id, inconsistent_reference['id'], type='CITED_BY')\n",
    "\n",
    "        elif anomaly_type == 'mislinked_identity':\n",
    "            # Choose 'name' attribute as the base for similarity\n",
    "            attribute = 'name'\n",
    "            \n",
    "            # Find a similar identity in a different island\n",
    "            unrelated_identity_island = random.choice([i for i in identity_islands if i != island])\n",
    "            similar_identity_id = find_similar_identity([G.nodes[id] for id in unrelated_identity_island], source_identity, attribute)\n",
    "            \n",
    "            if similar_identity_id:\n",
    "                G.add_edge(source_identity_id, similar_identity_id, type='IDENTITY_EQUIVALENCE')\n",
    "            else:\n",
    "                unrelated_identity = random.choice([id for i in identity_islands for id in i if i != island])\n",
    "                G.add_edge(source_identity_id, unrelated_identity, type='IDENTITY_EQUIVALENCE')\n",
    "\n",
    "        elif anomaly_type == 'incorrect_event':\n",
    "            # Add event nodes that don't logically connect to the identities\n",
    "            incorrect_event = {\n",
    "                'id': str(uuid.uuid4()),\n",
    "                'type': 'Event',\n",
    "                'event_type': 'BIOMETRIC_VERIFICATION',\n",
    "                'event_date': fake.date()\n",
    "            }\n",
    "            G.add_node(incorrect_event['id'], **incorrect_event)\n",
    "            target_identity_id = random.choice(island)\n",
    "            G.add_edge(target_identity_id, incorrect_event['id'], type='IMMIGRATION_STATUS_LINKED')"
   ]
  },
  {
   "cell_type": "markdown",
   "metadata": {},
   "source": [
    "## Load Graph"
   ]
  },
  {
   "cell_type": "code",
   "execution_count": 6,
   "metadata": {},
   "outputs": [
    {
     "name": "stdout",
     "output_type": "stream",
     "text": [
      "Synthetic data read complete.\n",
      "Number of nodes in the graph: 113\n",
      "Number of edges in the graph: 153\n"
     ]
    }
   ],
   "source": [
    "with open('../data/synthetic_data/synthetic_identity_islands.gpickle', 'rb') as f:\n",
    "    G = pickle.load(f)\n",
    "\n",
    "print(\"Synthetic data read complete.\")\n",
    "\n",
    "# Check the number of nodes and edges\n",
    "num_nodes = G.number_of_nodes()\n",
    "num_edges = G.number_of_edges()\n",
    "print(f\"Number of nodes in the graph: {num_nodes}\")\n",
    "print(f\"Number of edges in the graph: {num_edges}\")"
   ]
  },
  {
   "cell_type": "code",
   "execution_count": 7,
   "metadata": {},
   "outputs": [
    {
     "name": "stdout",
     "output_type": "stream",
     "text": [
      "Identity Island data read complete.\n",
      "10\n"
     ]
    }
   ],
   "source": [
    "with open('../data/synthetic_data/identity_islands.pkl', 'rb') as f:\n",
    "    identity_islands = pickle.load(f)\n",
    "\n",
    "print(\"Identity Island data read complete.\")\n",
    "print(len(identity_islands))"
   ]
  },
  {
   "cell_type": "markdown",
   "metadata": {},
   "source": [
    "## Add Anomalies"
   ]
  },
  {
   "cell_type": "code",
   "execution_count": 8,
   "metadata": {},
   "outputs": [],
   "source": [
    "anomaly_percentage = 100  # Introduce anomalies in 50% of the islands\n",
    "add_anomalies(G, identity_islands, anomaly_percentage)"
   ]
  },
  {
   "cell_type": "markdown",
   "metadata": {},
   "source": [
    "## Save Graph with Anomalies"
   ]
  },
  {
   "cell_type": "code",
   "execution_count": 9,
   "metadata": {},
   "outputs": [
    {
     "name": "stdout",
     "output_type": "stream",
     "text": [
      "Number of nodes in the graph: 121\n",
      "Number of edges in the graph: 163\n",
      "Graph have been saved.\n"
     ]
    }
   ],
   "source": [
    "# Check the number of nodes and edges\n",
    "print(f\"Number of nodes in the graph: {G.number_of_nodes()}\")\n",
    "print(f\"Number of edges in the graph: {G.number_of_edges()}\")\n",
    "\n",
    "# Save the graph to a file using pickle\n",
    "with open('../data/anomalies_data/synthetic_identity_islands.gpickle', 'wb') as f:\n",
    "    pickle.dump(G, f, pickle.HIGHEST_PROTOCOL)\n",
    "\n",
    "print(\"Graph have been saved.\")"
   ]
  },
  {
   "cell_type": "markdown",
   "metadata": {},
   "source": [
    "## Print out nodes and their attributes"
   ]
  },
  {
   "cell_type": "code",
   "execution_count": 10,
   "metadata": {},
   "outputs": [
    {
     "name": "stdout",
     "output_type": "stream",
     "text": [
      "Node ID: 3f9fa0ea-d962-40f5-89cd-8253c94db91c\n",
      "Attributes:\n",
      "id: 3f9fa0ea-d962-40f5-89cd-8253c94db91c\n",
      "type: Identity\n",
      "name: Katherine Glass\n",
      "age: 35\n",
      "date_of_birth: 11/04/1989\n",
      "nationality: KGZ\n",
      "\n"
     ]
    }
   ],
   "source": [
    "# Debug: Print out nodes and their attributes\n",
    "\n",
    "node_id = \"\"\n",
    "for node, attrs in G.nodes(data=True):\n",
    "    node_id = node\n",
    "    print(f\"Node ID: {node}\")\n",
    "    print(\"Attributes:\")\n",
    "    for attr_key, attr_value in attrs.items():\n",
    "        print(f\"{attr_key}: {attr_value}\")\n",
    "    print()\n",
    "    break"
   ]
  },
  {
   "cell_type": "markdown",
   "metadata": {},
   "source": [
    "## Print out Edges and their attributes"
   ]
  },
  {
   "cell_type": "code",
   "execution_count": 11,
   "metadata": {},
   "outputs": [
    {
     "name": "stdout",
     "output_type": "stream",
     "text": [
      "Edge from 3f9fa0ea-d962-40f5-89cd-8253c94db91c to 9dcbecaa-f0b1-415f-9843-9c218bbc4466\n",
      "Attributes:\n",
      "type: IDENTITY_EQUIVALENCE\n"
     ]
    }
   ],
   "source": [
    "for edge in G.edges(data=True):\n",
    "    print(f\"Edge from {edge[0]} to {edge[1]}\")\n",
    "    print(\"Attributes:\")\n",
    "    for attr_key, attr_value in edge[2].items():\n",
    "        print(f\"{attr_key}: {attr_value}\")\n",
    "    break"
   ]
  },
  {
   "cell_type": "code",
   "execution_count": 12,
   "metadata": {},
   "outputs": [
    {
     "name": "stdout",
     "output_type": "stream",
     "text": [
      "('Node 3f9fa0ea-d962-40f5-89cd-8253c94db91c has 9 neighbors: '\n",
      " \"[UUID('9dcbecaa-f0b1-415f-9843-9c218bbc4466'), \"\n",
      " \"UUID('8da377c7-4b90-46a1-88d2-5912a565765d'), \"\n",
      " \"UUID('c950fc8a-09a5-4fe5-89f5-b3ace8fe2727'), \"\n",
      " \"UUID('ca798061-f5ea-4040-90d8-5a0d465db622'), \"\n",
      " \"UUID('ac433407-a8ee-489e-afb4-e4aa9876c240'), \"\n",
      " \"UUID('3f9fa0ea-d962-40f5-89cd-8253c94db91c'), \"\n",
      " \"UUID('e725982e-1efa-4873-a773-fa9693cdd6f9'), \"\n",
      " \"'0e641f32-3b8c-4fe6-bd3c-409df4caac56', \"\n",
      " \"'57cf1688-28c5-47d3-ac03-70a80c5c69e7']\")\n"
     ]
    }
   ],
   "source": [
    "from pprint import pprint\n",
    "\n",
    "neighbors = list(G.neighbors(node_id))\n",
    "pprint(f\"Node {node_id} has {len(neighbors)} neighbors: {neighbors}\")"
   ]
  },
  {
   "cell_type": "markdown",
   "metadata": {},
   "source": [
    "## Display Identity Island with Anomalies"
   ]
  },
  {
   "cell_type": "code",
   "execution_count": 13,
   "metadata": {},
   "outputs": [
    {
     "name": "stdout",
     "output_type": "stream",
     "text": [
      "Identity Island 1:\n",
      "  ID: 57cf1688-28c5-47d3-ac03-70a80c5c69e7, Name: Victoria Glass, DOB: 11/04/1989, Nationality: KGZ\n",
      "  ID: c950fc8a-09a5-4fe5-89f5-b3ace8fe2727, Name: Katherine Hughes Glass, DOB: 11/04/1989, Nationality: KGZ\n",
      "  ID: 9dcbecaa-f0b1-415f-9843-9c218bbc4466, Name: Katherine Larry Hughes Glass, DOB: 11/04/1989, Nationality: KGZ\n",
      "  ID: 8da377c7-4b90-46a1-88d2-5912a565765d, Name: Katherine Larry Glass, DOB: 11/04/1989, Nationality: KGZ\n",
      "  ID: 3f9fa0ea-d962-40f5-89cd-8253c94db91c, Name: Katherine Glass, DOB: 11/04/1989, Nationality: KGZ\n",
      "  ID: ca798061-f5ea-4040-90d8-5a0d465db622, Name: Katherine Hughes Glass, DOB: 11/04/1989, Nationality: KGZ\n",
      "  ID: 0e641f32-3b8c-4fe6-bd3c-409df4caac56, Name: Kimberly Glass, DOB: 11/04/1989, Nationality: KGZ\n",
      "\n",
      "Identity Island 2:\n",
      "  ID: 7a267725-130f-42c3-b438-530b7ef726c5, Name: Barbara Baker, DOB: 11/08/2011, Nationality: UZB\n",
      "  ID: 39e58dd6-cb83-43bb-8864-1a487dfca258, Name: Barbara April Evans Baker, DOB: 11/08/2011, Nationality: UZB\n",
      "  ID: 56c47586-509b-4e5a-9b8f-d2467a219375, Name: Barbara April Baker, DOB: 11/08/2011, Nationality: UZB\n",
      "\n",
      "Identity Island 3:\n",
      "  ID: d037a4b9-0ba1-446c-9746-59b8b7c85eec, Name: John George Marquez Sherman, DOB: 28/10/1955, Nationality: PHL\n",
      "  ID: 8a080e07-79cc-4a74-a365-4bebcba2ba32, Name: John Sherman, DOB: 28/10/1955, Nationality: PHL\n",
      "\n",
      "Identity Island 4:\n",
      "  ID: 9ccd70ca-a8b6-4e41-9110-298eb39836d0, Name: Yasmin McGill Ging, DOB: 09/06/1971, Nationality: IRL\n",
      "  ID: 9b450254-98f6-44b9-bb7a-1484b8f74d91, Name: Yasmin McGill Ging, DOB: 09/06/1971, Nationality: IRL\n",
      "  ID: cf060c8e-fe07-412d-9f8e-b69cae401ae6, Name: Erica Laurie Davidson, DOB: 23/03/1982, Nationality: TUN\n",
      "  ID: 01327b55-73c0-463e-964f-fe143a125d95, Name: Erica Laurie Walker Davidson, DOB: 23/03/1982, Nationality: TUN\n",
      "  ID: 36b7fd33-8491-47f6-960d-fd6ecc7ffc48, Name: Christopher Joanna Lewis, DOB: 29/07/2011, Nationality: AGO\n",
      "  ID: 41d3fcc4-489f-4237-a700-d68bc60b2b46, Name: Christopher Lewis, DOB: 29/07/2011, Nationality: AGO\n",
      "  ID: b27b9b5a-34e6-40d5-9ebc-5944a106893e, Name: Christopher Lewis, DOB: 29/07/2011, Nationality: AGO\n",
      "  ID: 8c3fd725-6b7e-48a7-8931-ee5d3f14c93d, Name: Erica Davidson, DOB: 23/03/1982, Nationality: TUN\n",
      "  ID: 80f2db21-8ae1-4281-b2ac-736c3143b170, Name: Yasmin Ging, DOB: 09/06/1971, Nationality: IRL\n",
      "  ID: 9e9bd568-a936-4384-99c2-ee2145727456, Name: Yasmin Stephanie McGill Ging, DOB: 09/06/1971, Nationality: IRL\n",
      "  ID: 3cbb174c-2714-47e8-9936-f6a5a3c121cf, Name: Erica Laurie Davidson, DOB: 23/03/1982, Nationality: TUN\n",
      "  ID: 8f3c26d7-2ca6-4ae2-bb6b-2eca37b92607, Name: Erica Davidson, DOB: 23/03/1982, Nationality: TUN\n",
      "  ID: b7a0aca8-65fa-47ef-a153-0c564e4de921, Name: Erica Laurie Davidson, DOB: 23/03/1982, Nationality: TUN\n",
      "  ID: 7067a123-d23b-4ef8-b079-580f9fcbc6ec, Name: Christopher Clark Lewis, DOB: 29/07/2011, Nationality: AGO\n",
      "  ID: 44c15e7c-9d67-4803-879f-204e4ef807a8, Name: Christopher Lewis, DOB: 29/07/2011, Nationality: AGO\n",
      "  ID: 42b83336-3835-40e3-9cf1-45ad6a51cc35, Name: Yasmin Stephanie McGill Ging, DOB: 09/06/1971, Nationality: IRL\n",
      "  ID: 8c85c7fe-0931-464f-b4b0-a18b848cea45, Name: Christopher Clark Lewis, DOB: 29/07/2011, Nationality: AGO\n",
      "  ID: ee4a3a4e-a09f-4ab2-9a6e-bd966420a998, Name: Yasmin Stephanie Ging, DOB: 09/06/1971, Nationality: IRL\n",
      "\n",
      "Identity Island 5:\n",
      "  ID: e186d566-44b8-4983-b2b1-b3ac4def4eb2, Name: 家豪 郝, DOB: 13/12/1978, Nationality: TWN\n",
      "  ID: 7e8a5900-b1bc-476f-a76b-c8bf23819094, Name: 家豪 趙 郝, DOB: 13/12/1978, Nationality: TWN\n",
      "  ID: 486b7844-cc91-44ae-8687-1574696e2790, Name: Nancy 趙, DOB: 13/12/1978, Nationality: TWN\n",
      "\n",
      "Identity Island 6:\n",
      "  ID: 317a74de-1e35-412c-b62a-8a7e3dab740e, Name: Douglas Peters, DOB: 16/04/1975, Nationality: DJI\n",
      "  ID: fdab1097-87eb-411d-9150-04eb2e4c3d16, Name: Douglas Cathy Marshall Peters, DOB: 16/04/1975, Nationality: DJI\n",
      "  ID: 3f755982-af85-45de-878e-40eec96a0643, Name: Douglas Peters, DOB: 16/04/1975, Nationality: DJI\n",
      "  ID: d3d87d3d-8ad5-45a0-a63e-1e76265c7991, Name: Douglas Marshall Peters, DOB: 16/04/1975, Nationality: DJI\n",
      "  ID: 64d4ada3-ecec-401f-9fa8-6f41504f8018, Name: Douglas Peters, DOB: 16/04/1975, Nationality: DJI\n",
      "\n",
      "Identity Island 7:\n",
      "  ID: 2c8a0b3a-c113-4fd4-88a1-80d548f51e46, Name: Daniel Phillips Moody, DOB: 21/03/1949, Nationality: TJK\n",
      "  ID: 38186728-feba-4089-aa8e-0e9954706bc2, Name: Daniel Moody, DOB: 21/03/1949, Nationality: TJK\n",
      "  ID: 3549e88c-5936-402b-a65f-86b9cae5d7b5, Name: Daniel Richard Phillips Moody, DOB: 21/03/1949, Nationality: TJK\n",
      "\n",
      "Identity Island 8:\n",
      "  ID: 4e06b33c-658d-492d-8fd6-133f4daf8b62, Name: Erin Jack Alexander, DOB: 11/03/1960, Nationality: TUV\n",
      "  ID: 2115f0ac-2e8f-4165-b1e5-d7dada607d31, Name: Erin Lara Alexander, DOB: 11/03/1960, Nationality: TUV\n",
      "  ID: 6c145409-13a6-4f9a-8cb9-0677df34dedb, Name: Erin Alexander, DOB: 11/03/1960, Nationality: TUV\n",
      "  ID: d2ea618b-2442-425f-8f3f-4b38b29b1806, Name: Erin Alexander, DOB: 11/03/1960, Nationality: TUV\n",
      "  ID: d10083ad-39d8-4862-a398-ed253eea8cf2, Name: Erin Jack Lara Alexander, DOB: 11/03/1960, Nationality: TUV\n",
      "\n"
     ]
    }
   ],
   "source": [
    "import networkx as nx\n",
    "import pandas as pd\n",
    "\n",
    "def extract_identity_islands(G):\n",
    "    identity_islands = []\n",
    "    for subgraph in nx.connected_components(G.to_undirected()):\n",
    "        identities = [n for n in subgraph if G.nodes[n]['type'] == 'Identity']\n",
    "        if len(identities) > 1:\n",
    "            identity_islands.append(identities)\n",
    "    return identity_islands\n",
    "\n",
    "def print_identity_islands(G):\n",
    "    identity_islands = extract_identity_islands(G)\n",
    "    for i, island in enumerate(identity_islands, start=1):\n",
    "        print(f\"Identity Island {i}:\")\n",
    "        for identity in island:\n",
    "            node_data = G.nodes[identity]\n",
    "            print(f\"  ID: {identity}, Name: {node_data['name']}, DOB: {node_data['date_of_birth']}, Nationality: {node_data['nationality']}\")\n",
    "        print()\n",
    "\n",
    "# Extract and print identity islands\n",
    "print_identity_islands(G)"
   ]
  },
  {
   "cell_type": "code",
   "execution_count": null,
   "metadata": {},
   "outputs": [],
   "source": []
  }
 ],
 "metadata": {
  "kernelspec": {
   "display_name": "Python 3",
   "language": "python",
   "name": "python3"
  },
  "language_info": {
   "codemirror_mode": {
    "name": "ipython",
    "version": 3
   },
   "file_extension": ".py",
   "mimetype": "text/x-python",
   "name": "python",
   "nbconvert_exporter": "python",
   "pygments_lexer": "ipython3",
   "version": "3.12.3"
  }
 },
 "nbformat": 4,
 "nbformat_minor": 2
}
