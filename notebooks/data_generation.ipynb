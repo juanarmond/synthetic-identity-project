{
 "cells": [
  {
   "cell_type": "code",
   "execution_count": 1,
   "metadata": {},
   "outputs": [
    {
     "name": "stdout",
     "output_type": "stream",
     "text": [
      "Requirement already satisfied: networkx in /Library/Frameworks/Python.framework/Versions/3.12/lib/python3.12/site-packages (3.2.1)\n",
      "Note: you may need to restart the kernel to use updated packages.\n",
      "Requirement already satisfied: pandas in /Library/Frameworks/Python.framework/Versions/3.12/lib/python3.12/site-packages (2.0.3)\n",
      "Requirement already satisfied: python-dateutil>=2.8.2 in /Library/Frameworks/Python.framework/Versions/3.12/lib/python3.12/site-packages (from pandas) (2.8.2)\n",
      "Requirement already satisfied: pytz>=2020.1 in /Library/Frameworks/Python.framework/Versions/3.12/lib/python3.12/site-packages (from pandas) (2023.3.post1)\n",
      "Requirement already satisfied: tzdata>=2022.1 in /Library/Frameworks/Python.framework/Versions/3.12/lib/python3.12/site-packages (from pandas) (2023.4)\n",
      "Requirement already satisfied: numpy>=1.21.0 in /Library/Frameworks/Python.framework/Versions/3.12/lib/python3.12/site-packages (from pandas) (1.26.3)\n",
      "Requirement already satisfied: six>=1.5 in /Library/Frameworks/Python.framework/Versions/3.12/lib/python3.12/site-packages (from python-dateutil>=2.8.2->pandas) (1.16.0)\n",
      "Note: you may need to restart the kernel to use updated packages.\n",
      "Requirement already satisfied: faker in /Library/Frameworks/Python.framework/Versions/3.12/lib/python3.12/site-packages (25.5.0)\n",
      "Requirement already satisfied: python-dateutil>=2.4 in /Library/Frameworks/Python.framework/Versions/3.12/lib/python3.12/site-packages (from faker) (2.8.2)\n",
      "Requirement already satisfied: six>=1.5 in /Library/Frameworks/Python.framework/Versions/3.12/lib/python3.12/site-packages (from python-dateutil>=2.4->faker) (1.16.0)\n",
      "Note: you may need to restart the kernel to use updated packages.\n",
      "Requirement already satisfied: uuid in /Library/Frameworks/Python.framework/Versions/3.12/lib/python3.12/site-packages (1.30)\n",
      "Note: you may need to restart the kernel to use updated packages.\n",
      "Requirement already satisfied: pycountry in /Library/Frameworks/Python.framework/Versions/3.12/lib/python3.12/site-packages (24.6.1)\n",
      "Note: you may need to restart the kernel to use updated packages.\n"
     ]
    }
   ],
   "source": [
    "%pip install networkx\n",
    "%pip install pandas\n",
    "%pip install faker\n",
    "%pip install uuid\n",
    "%pip install pycountry"
   ]
  },
  {
   "cell_type": "markdown",
   "metadata": {},
   "source": [
    "## Synthetic Identity Islands Data Generation\n",
    "\n",
    "This code generates synthetic identity islands using the `networkx`, `pandas`, and `Faker` libraries. It creates a directed graph representing interconnected identities with various relationships. Below is an overview of the steps involved:\n",
    "\n",
    "### 1. Import Libraries and Initialize Graph\n",
    "- Import necessary libraries including `networkx` for graph operations, `pandas` for data handling, `Faker` for generating fake data, and other utilities.\n",
    "- Initialize a directed graph `G`.\n",
    "\n",
    "### 2. Define Helper Functions\n",
    "- **`create_identity_island`**: This function creates an identity island with a base identity and several variations of that identity. It generates multiple names and associates them with the base identity using edges of type `IDENTITY_EQUIVALENCE`.\n",
    "- **`generate_random_identity_island`**: This function generates a random identity island by selecting a random country code and corresponding locale. It then uses the locale-specific Faker instance to create a base identity and additional identities within the island.\n",
    "\n",
    "### 3. Country Locale Mapping\n",
    "- A dictionary `country_locale_map` maps country codes to corresponding Faker locales to ensure name generation aligns with the selected country.\n",
    "\n",
    "### 4. Generate Identity Islands\n",
    "- Loop to generate a specified number of identity islands (`num_islands`).\n",
    "- For each island, `generate_random_identity_island` is called to create and add the island to the graph `G`.\n",
    "\n",
    "### 5. Add Edges Within Islands\n",
    "- **`add_edges_within_island`**: This function adds various types of edges within each identity island to simulate realistic relationships and interactions. These edges include `INCLUDED_IN`, `CITED_BY`, `IDENTIFIED_THROUGH_BIOMETRICS`, `IDENTITY_EQUIVALENCE`, `MANUAL_IDENTITY_OVERRIDE`, `IMMIGRATION_STATUS_LINKED`, and `SAME_APPLICATION`.\n",
    "\n",
    "### 6. Apply Edges to Each Island\n",
    "- Loop through each identity island and apply the `add_edges_within_island` function to add internal edges."
   ]
  },
  {
   "cell_type": "markdown",
   "metadata": {},
   "source": [
    "## Generates Identity Islands"
   ]
  },
  {
   "cell_type": "code",
   "execution_count": 2,
   "metadata": {},
   "outputs": [],
   "source": [
    "import networkx as nx\n",
    "import pandas as pd\n",
    "import numpy as np\n",
    "import random\n",
    "import uuid\n",
    "import pickle\n",
    "import pycountry\n",
    "from faker import Faker\n",
    "import numpy as np"
   ]
  },
  {
   "cell_type": "code",
   "execution_count": 3,
   "metadata": {},
   "outputs": [],
   "source": [
    "# Initialize Faker\n",
    "fake = Faker()\n",
    "\n",
    "# Initialize a directed graph\n",
    "G = nx.DiGraph()"
   ]
  },
  {
   "cell_type": "code",
   "execution_count": 4,
   "metadata": {},
   "outputs": [],
   "source": [
    "# Function to create identity islands\n",
    "def create_identity_island(G, locale_fake, base_name, date_of_birth, nationality, num_identities):\n",
    "    base_identity = {\n",
    "        'id': uuid.uuid4(),\n",
    "        'type': 'Identity',\n",
    "        'name': base_name,\n",
    "        'age': (pd.to_datetime('today') - pd.to_datetime(date_of_birth, dayfirst=True)).days // 365,\n",
    "        'date_of_birth': date_of_birth,\n",
    "        'nationality': nationality\n",
    "    }\n",
    "    G.add_node(base_identity['id'], **base_identity)\n",
    "\n",
    "    second_name = locale_fake.first_name()\n",
    "    middle_name = locale_fake.last_name()\n",
    "    \n",
    "    partial_names = [\n",
    "        f\"{base_name.split()[0]} {base_name.split()[-1]}\",\n",
    "        f\"{base_name.split()[0]} {second_name} {base_name.split()[-1]}\",\n",
    "        f\"{base_name.split()[0]} {second_name} {middle_name} {base_name.split()[-1]}\",\n",
    "        f\"{base_name.split()[0]} {middle_name} {base_name.split()[-1]}\",\n",
    "        # f\"{base_name.split()[0]} {middle_name} {base_name.split()[-1]}o\"\n",
    "    ]\n",
    "    \n",
    "    identities = [base_identity['id']]\n",
    "    for partial_name in np.random.choice(partial_names, num_identities):\n",
    "        identity = {\n",
    "            'id': uuid.uuid4(),\n",
    "            'type': 'Identity',\n",
    "            'name': partial_name,\n",
    "            'age': base_identity['age'],\n",
    "            'date_of_birth': date_of_birth,\n",
    "            'nationality': nationality\n",
    "        }\n",
    "        G.add_node(identity['id'], **identity)\n",
    "        G.add_edge(base_identity['id'], identity['id'], type='IDENTITY_EQUIVALENCE')\n",
    "        identities.append(identity['id'])\n",
    "    \n",
    "    return identities"
   ]
  },
  {
   "cell_type": "code",
   "execution_count": 5,
   "metadata": {},
   "outputs": [],
   "source": [
    "# Create a dictionary to map country codes to Faker locales\n",
    "country_locale_map = {\n",
    "    'AL': 'sq_AL',\n",
    "    'AM': 'hy_AM',\n",
    "    'AR': 'es_AR',\n",
    "    'AT': 'de_AT',\n",
    "    'AZ': 'az_AZ',\n",
    "    'BE': 'fr_BE',\n",
    "    'BG': 'bg_BG',\n",
    "    'BN': 'bn_BD',\n",
    "    'BO': 'es',\n",
    "    'BR': 'pt_BR',\n",
    "    'CA': 'fr_CA',\n",
    "    'CH': 'de_CH',\n",
    "    'CL': 'es_CL',\n",
    "    'CN': 'zh_CN',\n",
    "    'CO': 'es_CO',\n",
    "    'CR': 'es',\n",
    "    'CS': 'cs_CZ',\n",
    "    'CU': 'es',\n",
    "    'DE': 'de',\n",
    "    'DO': 'es',\n",
    "    'EC': 'es',\n",
    "    'EE': 'et_EE',\n",
    "    'ES': 'es_ES',\n",
    "    'FI': 'fi_FI',\n",
    "    'FR': 'fr_FR',\n",
    "    'GB': 'en_GB',\n",
    "    'GE': 'ka_GE',\n",
    "    'GR': 'el_GR',\n",
    "    'GT': 'es',\n",
    "    'HN': 'es',\n",
    "    'HR': 'hr_HR',\n",
    "    'HU': 'hu_HU',\n",
    "    'ID': 'id_ID',\n",
    "    'IE': 'en_IE',\n",
    "    'IL': 'he_IL',\n",
    "    'IN': 'en_IN',\n",
    "    'IR': 'fa_IR',\n",
    "    'IT': 'it_IT',\n",
    "    'JP': 'ja_JP',\n",
    "    'KR': 'ko_KR',\n",
    "    'MX': 'es_MX',\n",
    "    'NI': 'es',\n",
    "    'NL': 'nl_NL',\n",
    "    'NO': 'no_NO',\n",
    "    'NZ': 'en_NZ',\n",
    "    'PA': 'es',\n",
    "    'PE': 'es',\n",
    "    'PL': 'pl_PL',\n",
    "    'PT': 'pt_PT',\n",
    "    'PY': 'es',\n",
    "    'RO': 'ro_RO',\n",
    "    'RU': 'ru_RU',\n",
    "    'SA': 'ar_SA',\n",
    "    'SE': 'sv_SE',\n",
    "    'SI': 'sl_SI',\n",
    "    'SK': 'sk_SK',\n",
    "    'SV': 'es',\n",
    "    'TH': 'th_TH',\n",
    "    'TR': 'tr_TR',\n",
    "    'TW': 'zh_TW',\n",
    "    'UA': 'uk_UA',\n",
    "    'UY': 'es',\n",
    "    'VE': 'es',\n",
    "    'ZA': 'zu_ZA'\n",
    "}"
   ]
  },
  {
   "cell_type": "code",
   "execution_count": 6,
   "metadata": {},
   "outputs": [],
   "source": [
    "# Generate a random identity island\n",
    "def generate_random_identity_island(G):\n",
    "    # Get a random country code\n",
    "    country_code = fake.country_code()\n",
    "    \n",
    "    # Get the corresponding locale, default to 'en_US' if not found\n",
    "    locale = country_locale_map.get(country_code, 'en_US')\n",
    "    \n",
    "    # Initialize Faker with the specific locale\n",
    "    locale_fake = Faker(locale)\n",
    "    \n",
    "    # Generate name based on locale\n",
    "    base_name = f\"{locale_fake.first_name()} {locale_fake.last_name()}\"\n",
    "    date_of_birth = fake.date_of_birth(minimum_age=1, maximum_age=80).strftime('%d/%m/%Y')\n",
    "    nationality = pycountry.countries.get(alpha_2=country_code).alpha_3\n",
    "\n",
    "    return create_identity_island(G, locale_fake, base_name, date_of_birth, nationality, random.randrange(1,6))"
   ]
  },
  {
   "cell_type": "code",
   "execution_count": 7,
   "metadata": {},
   "outputs": [],
   "source": [
    "# Additional code for edges and anomalies within islands\n",
    "def add_edges_within_island(G, island):\n",
    "    reference_nodes = [{'id': uuid.uuid4(), 'type': 'Reference', 'doc_type': random.choice(['PASSPORT', 'NATURALISATION', 'VISA_1', 'VISA_2', 'NATIONAL_IDENTITY_CARD']), 'doc_number': fake.ssn()} for _ in range(5)]\n",
    "    event_nodes = [{'id': uuid.uuid4(), 'type': 'Event', 'event_type': 'BIOMETRIC_VERIFICATION', 'event_date': fake.date()} for _ in range(2)]\n",
    "    \n",
    "    for node in reference_nodes + event_nodes:\n",
    "        G.add_node(node['id'], **node)\n",
    "    \n",
    "    for identity in island:\n",
    "        # Randomly add INCLUDED_IN edges\n",
    "        if random.random() < 0.5:\n",
    "            target = random.choice(island)\n",
    "            G.add_edge(identity, target, type='INCLUDED_IN')\n",
    "\n",
    "        # Randomly add CITED_BY edges\n",
    "        if random.random() < 0.5:\n",
    "            target = random.choice(reference_nodes)['id']\n",
    "            G.add_edge(identity, target, type='CITED_BY')\n",
    "\n",
    "        # Randomly add IDENTIFIED_THROUGH_BIOMETRICS edges\n",
    "        if random.random() < 0.5:\n",
    "            target = random.choice(reference_nodes)['id']\n",
    "            G.add_edge(identity, target, type='IDENTIFIED_THROUGH_BIOMETRICS')\n",
    "\n",
    "        # Randomly add IDENTITY_EQUIVALENCE edges\n",
    "        if random.random() < 0.5:\n",
    "            target = random.choice(island)\n",
    "            G.add_edge(identity, target, type='IDENTITY_EQUIVALENCE')\n",
    "\n",
    "        # Randomly add MANUAL_IDENTITY_OVERRIDE edges\n",
    "        if random.random() < 0.5:\n",
    "            target = random.choice(island)\n",
    "            G.add_edge(identity, target, type='MANUAL_IDENTITY_OVERRIDE')\n",
    "\n",
    "        # Randomly add IMMIGRATION_STATUS_LINKED edges\n",
    "        if random.random() < 0.5:\n",
    "            target = random.choice(event_nodes)['id']\n",
    "            G.add_edge(identity, target, type='IMMIGRATION_STATUS_LINKED')\n",
    "\n",
    "        # Randomly add SAME_APPLICATION edges\n",
    "        if random.random() < 0.5:\n",
    "            target = random.choice(island)\n",
    "            G.add_edge(identity, target, type='SAME_APPLICATION')"
   ]
  },
  {
   "cell_type": "markdown",
   "metadata": {},
   "source": [
    "## Create multiple identity islands"
   ]
  },
  {
   "cell_type": "code",
   "execution_count": 8,
   "metadata": {},
   "outputs": [
    {
     "name": "stdout",
     "output_type": "stream",
     "text": [
      "Synthetic data generation complete.\n"
     ]
    }
   ],
   "source": [
    "# Create multiple identity islands\n",
    "identity_islands = []\n",
    "num_islands = 10\n",
    "for _ in range(num_islands):\n",
    "    island = generate_random_identity_island(G)\n",
    "    identity_islands.append(island)\n",
    "\n",
    "# Add edges within each island\n",
    "for island in identity_islands:\n",
    "    add_edges_within_island(G, island)\n",
    "\n",
    "print(\"Synthetic data generation complete.\")"
   ]
  },
  {
   "cell_type": "markdown",
   "metadata": {},
   "source": [
    "## Save Graph"
   ]
  },
  {
   "cell_type": "code",
   "execution_count": 9,
   "metadata": {},
   "outputs": [
    {
     "name": "stdout",
     "output_type": "stream",
     "text": [
      "Number of nodes in the graph: 113\n",
      "Number of edges in the graph: 153\n",
      "Graph have been saved.\n"
     ]
    }
   ],
   "source": [
    "# Check the number of nodes and edges\n",
    "print(f\"Number of nodes in the graph: {G.number_of_nodes()}\")\n",
    "print(f\"Number of edges in the graph: {G.number_of_edges()}\")\n",
    "\n",
    "# Save the graph to a file using pickle\n",
    "with open('../data/synthetic_data/synthetic_identity_islands.gpickle', 'wb') as f:\n",
    "    pickle.dump(G, f, pickle.HIGHEST_PROTOCOL)\n",
    "\n",
    "print(\"Graph have been saved.\")"
   ]
  },
  {
   "cell_type": "code",
   "execution_count": 10,
   "metadata": {},
   "outputs": [
    {
     "name": "stdout",
     "output_type": "stream",
     "text": [
      "Identity islands have been saved.\n"
     ]
    }
   ],
   "source": [
    "# Save identity islands to a file using pickle\n",
    "with open('../data/synthetic_data/identity_islands.pkl', 'wb') as f:\n",
    "    pickle.dump(identity_islands, f, pickle.HIGHEST_PROTOCOL)\n",
    "\n",
    "print(\"Identity islands have been saved.\")"
   ]
  },
  {
   "cell_type": "markdown",
   "metadata": {},
   "source": [
    "## Display Identity Island"
   ]
  },
  {
   "cell_type": "code",
   "execution_count": 11,
   "metadata": {},
   "outputs": [
    {
     "name": "stdout",
     "output_type": "stream",
     "text": [
      "Identity Island 1:\n",
      "  ID: c950fc8a-09a5-4fe5-89f5-b3ace8fe2727, Name: Katherine Hughes Glass, DOB: 11/04/1989, Nationality: KGZ\n",
      "  ID: 9dcbecaa-f0b1-415f-9843-9c218bbc4466, Name: Katherine Larry Hughes Glass, DOB: 11/04/1989, Nationality: KGZ\n",
      "  ID: 8da377c7-4b90-46a1-88d2-5912a565765d, Name: Katherine Larry Glass, DOB: 11/04/1989, Nationality: KGZ\n",
      "  ID: 3f9fa0ea-d962-40f5-89cd-8253c94db91c, Name: Katherine Glass, DOB: 11/04/1989, Nationality: KGZ\n",
      "  ID: ca798061-f5ea-4040-90d8-5a0d465db622, Name: Katherine Hughes Glass, DOB: 11/04/1989, Nationality: KGZ\n",
      "\n",
      "Identity Island 2:\n",
      "  ID: 7a267725-130f-42c3-b438-530b7ef726c5, Name: Barbara Baker, DOB: 11/08/2011, Nationality: UZB\n",
      "  ID: 39e58dd6-cb83-43bb-8864-1a487dfca258, Name: Barbara April Evans Baker, DOB: 11/08/2011, Nationality: UZB\n",
      "  ID: 56c47586-509b-4e5a-9b8f-d2467a219375, Name: Barbara April Baker, DOB: 11/08/2011, Nationality: UZB\n",
      "\n",
      "Identity Island 3:\n",
      "  ID: 8a080e07-79cc-4a74-a365-4bebcba2ba32, Name: John Sherman, DOB: 28/10/1955, Nationality: PHL\n",
      "  ID: d037a4b9-0ba1-446c-9746-59b8b7c85eec, Name: John George Marquez Sherman, DOB: 28/10/1955, Nationality: PHL\n",
      "\n",
      "Identity Island 4:\n",
      "  ID: 42b83336-3835-40e3-9cf1-45ad6a51cc35, Name: Yasmin Stephanie McGill Ging, DOB: 09/06/1971, Nationality: IRL\n",
      "  ID: 9e9bd568-a936-4384-99c2-ee2145727456, Name: Yasmin Stephanie McGill Ging, DOB: 09/06/1971, Nationality: IRL\n",
      "  ID: 9ccd70ca-a8b6-4e41-9110-298eb39836d0, Name: Yasmin McGill Ging, DOB: 09/06/1971, Nationality: IRL\n",
      "  ID: 9b450254-98f6-44b9-bb7a-1484b8f74d91, Name: Yasmin McGill Ging, DOB: 09/06/1971, Nationality: IRL\n",
      "  ID: ee4a3a4e-a09f-4ab2-9a6e-bd966420a998, Name: Yasmin Stephanie Ging, DOB: 09/06/1971, Nationality: IRL\n",
      "  ID: 80f2db21-8ae1-4281-b2ac-736c3143b170, Name: Yasmin Ging, DOB: 09/06/1971, Nationality: IRL\n",
      "\n",
      "Identity Island 5:\n",
      "  ID: e186d566-44b8-4983-b2b1-b3ac4def4eb2, Name: 家豪 郝, DOB: 13/12/1978, Nationality: TWN\n",
      "  ID: 7e8a5900-b1bc-476f-a76b-c8bf23819094, Name: 家豪 趙 郝, DOB: 13/12/1978, Nationality: TWN\n",
      "\n",
      "Identity Island 6:\n",
      "  ID: 317a74de-1e35-412c-b62a-8a7e3dab740e, Name: Douglas Peters, DOB: 16/04/1975, Nationality: DJI\n",
      "  ID: fdab1097-87eb-411d-9150-04eb2e4c3d16, Name: Douglas Cathy Marshall Peters, DOB: 16/04/1975, Nationality: DJI\n",
      "  ID: 3f755982-af85-45de-878e-40eec96a0643, Name: Douglas Peters, DOB: 16/04/1975, Nationality: DJI\n",
      "  ID: d3d87d3d-8ad5-45a0-a63e-1e76265c7991, Name: Douglas Marshall Peters, DOB: 16/04/1975, Nationality: DJI\n",
      "  ID: 64d4ada3-ecec-401f-9fa8-6f41504f8018, Name: Douglas Peters, DOB: 16/04/1975, Nationality: DJI\n",
      "\n",
      "Identity Island 7:\n",
      "  ID: 2c8a0b3a-c113-4fd4-88a1-80d548f51e46, Name: Daniel Phillips Moody, DOB: 21/03/1949, Nationality: TJK\n",
      "  ID: 38186728-feba-4089-aa8e-0e9954706bc2, Name: Daniel Moody, DOB: 21/03/1949, Nationality: TJK\n",
      "  ID: 3549e88c-5936-402b-a65f-86b9cae5d7b5, Name: Daniel Richard Phillips Moody, DOB: 21/03/1949, Nationality: TJK\n",
      "\n",
      "Identity Island 8:\n",
      "  ID: 8f3c26d7-2ca6-4ae2-bb6b-2eca37b92607, Name: Erica Davidson, DOB: 23/03/1982, Nationality: TUN\n",
      "  ID: 3cbb174c-2714-47e8-9936-f6a5a3c121cf, Name: Erica Laurie Davidson, DOB: 23/03/1982, Nationality: TUN\n",
      "  ID: cf060c8e-fe07-412d-9f8e-b69cae401ae6, Name: Erica Laurie Davidson, DOB: 23/03/1982, Nationality: TUN\n",
      "  ID: 01327b55-73c0-463e-964f-fe143a125d95, Name: Erica Laurie Walker Davidson, DOB: 23/03/1982, Nationality: TUN\n",
      "  ID: b7a0aca8-65fa-47ef-a153-0c564e4de921, Name: Erica Laurie Davidson, DOB: 23/03/1982, Nationality: TUN\n",
      "  ID: 8c3fd725-6b7e-48a7-8931-ee5d3f14c93d, Name: Erica Davidson, DOB: 23/03/1982, Nationality: TUN\n",
      "\n",
      "Identity Island 9:\n",
      "  ID: 4e06b33c-658d-492d-8fd6-133f4daf8b62, Name: Erin Jack Alexander, DOB: 11/03/1960, Nationality: TUV\n",
      "  ID: 2115f0ac-2e8f-4165-b1e5-d7dada607d31, Name: Erin Lara Alexander, DOB: 11/03/1960, Nationality: TUV\n",
      "  ID: 6c145409-13a6-4f9a-8cb9-0677df34dedb, Name: Erin Alexander, DOB: 11/03/1960, Nationality: TUV\n",
      "  ID: d2ea618b-2442-425f-8f3f-4b38b29b1806, Name: Erin Alexander, DOB: 11/03/1960, Nationality: TUV\n",
      "  ID: d10083ad-39d8-4862-a398-ed253eea8cf2, Name: Erin Jack Lara Alexander, DOB: 11/03/1960, Nationality: TUV\n",
      "\n",
      "Identity Island 10:\n",
      "  ID: 8c85c7fe-0931-464f-b4b0-a18b848cea45, Name: Christopher Clark Lewis, DOB: 29/07/2011, Nationality: AGO\n",
      "  ID: 36b7fd33-8491-47f6-960d-fd6ecc7ffc48, Name: Christopher Joanna Lewis, DOB: 29/07/2011, Nationality: AGO\n",
      "  ID: 7067a123-d23b-4ef8-b079-580f9fcbc6ec, Name: Christopher Clark Lewis, DOB: 29/07/2011, Nationality: AGO\n",
      "  ID: 41d3fcc4-489f-4237-a700-d68bc60b2b46, Name: Christopher Lewis, DOB: 29/07/2011, Nationality: AGO\n",
      "  ID: 44c15e7c-9d67-4803-879f-204e4ef807a8, Name: Christopher Lewis, DOB: 29/07/2011, Nationality: AGO\n",
      "  ID: b27b9b5a-34e6-40d5-9ebc-5944a106893e, Name: Christopher Lewis, DOB: 29/07/2011, Nationality: AGO\n",
      "\n"
     ]
    }
   ],
   "source": [
    "def extract_identity_islands(G):\n",
    "    identity_islands = []\n",
    "    for subgraph in nx.connected_components(G.to_undirected()):\n",
    "        identities = [n for n in subgraph if G.nodes[n]['type'] == 'Identity']\n",
    "        if len(identities) > 1:\n",
    "            identity_islands.append(identities)\n",
    "    return identity_islands\n",
    "\n",
    "def print_identity_islands(G):\n",
    "    identity_islands = extract_identity_islands(G)\n",
    "    for i, island in enumerate(identity_islands, start=1):\n",
    "        print(f\"Identity Island {i}:\")\n",
    "        for identity in island:\n",
    "            node_data = G.nodes[identity]\n",
    "            print(f\"  ID: {identity}, Name: {node_data['name']}, DOB: {node_data['date_of_birth']}, Nationality: {node_data['nationality']}\")\n",
    "        print()\n",
    "\n",
    "# Extract and print identity islands\n",
    "print_identity_islands(G)"
   ]
  },
  {
   "cell_type": "markdown",
   "metadata": {},
   "source": [
    "## Display One Identity"
   ]
  },
  {
   "cell_type": "code",
   "execution_count": 12,
   "metadata": {},
   "outputs": [
    {
     "name": "stdout",
     "output_type": "stream",
     "text": [
      "Node ID: 317a74de-1e35-412c-b62a-8a7e3dab740e\n",
      "Node Details:\n",
      "{'id': UUID('317a74de-1e35-412c-b62a-8a7e3dab740e'), 'type': 'Identity', 'name': 'Douglas Peters', 'age': 49, 'date_of_birth': '16/04/1975', 'nationality': 'DJI'}\n",
      "\n",
      "Incoming Edges:\n",
      "3f755982-af85-45de-878e-40eec96a0643 -> 317a74de-1e35-412c-b62a-8a7e3dab740e (Type: IDENTITY_EQUIVALENCE)\n",
      "fdab1097-87eb-411d-9150-04eb2e4c3d16 -> 317a74de-1e35-412c-b62a-8a7e3dab740e (Type: INCLUDED_IN)\n",
      "317a74de-1e35-412c-b62a-8a7e3dab740e -> 317a74de-1e35-412c-b62a-8a7e3dab740e (Type: MANUAL_IDENTITY_OVERRIDE)\n",
      "d3d87d3d-8ad5-45a0-a63e-1e76265c7991 -> 317a74de-1e35-412c-b62a-8a7e3dab740e (Type: IDENTITY_EQUIVALENCE)\n",
      "\n",
      "Outgoing Edges:\n",
      "317a74de-1e35-412c-b62a-8a7e3dab740e -> 3ed06c04-e2c1-4b54-8295-67e4068bb543 (Type: IDENTIFIED_THROUGH_BIOMETRICS)\n",
      "317a74de-1e35-412c-b62a-8a7e3dab740e -> 317a74de-1e35-412c-b62a-8a7e3dab740e (Type: MANUAL_IDENTITY_OVERRIDE)\n",
      "317a74de-1e35-412c-b62a-8a7e3dab740e -> fdab1097-87eb-411d-9150-04eb2e4c3d16 (Type: SAME_APPLICATION)\n"
     ]
    }
   ],
   "source": [
    "# Update the identity_nodes list to ensure it is current\n",
    "identity_nodes = [n for n, d in G.nodes(data=True) if d['type'] == 'Identity']\n",
    "\n",
    "# Choose a random identity node to inspect\n",
    "random_identity_node = random.choice(identity_nodes)\n",
    "# random_identity_node = uuid.UUID('77d262f1-a8fe-4347-acf5-1fa956f039be')\n",
    "\n",
    "# Function to print node details and its edges\n",
    "def print_identity_island(graph, node_id):\n",
    "    node_details = graph.nodes[node_id]\n",
    "    print(f\"Node ID: {node_id}\")\n",
    "    print(\"Node Details:\")\n",
    "    print(node_details)\n",
    "    \n",
    "    # Incoming edges\n",
    "    print(\"\\nIncoming Edges:\")\n",
    "    for u, v, data in graph.in_edges(node_id, data=True):\n",
    "        print(f\"{u} -> {v} (Type: {data['type']})\")\n",
    "    \n",
    "    # Outgoing edges\n",
    "    print(\"\\nOutgoing Edges:\")\n",
    "    for u, v, data in graph.out_edges(node_id, data=True):\n",
    "        print(f\"{u} -> {v} (Type: {data['type']})\")\n",
    "\n",
    "# Call the function to print the details of the chosen node and its edges\n",
    "print_identity_island(G, random_identity_node)"
   ]
  },
  {
   "cell_type": "code",
   "execution_count": null,
   "metadata": {},
   "outputs": [],
   "source": []
  }
 ],
 "metadata": {
  "kernelspec": {
   "display_name": "Python 3",
   "language": "python",
   "name": "python3"
  },
  "language_info": {
   "codemirror_mode": {
    "name": "ipython",
    "version": 3
   },
   "file_extension": ".py",
   "mimetype": "text/x-python",
   "name": "python",
   "nbconvert_exporter": "python",
   "pygments_lexer": "ipython3",
   "version": "3.12.3"
  }
 },
 "nbformat": 4,
 "nbformat_minor": 2
}
